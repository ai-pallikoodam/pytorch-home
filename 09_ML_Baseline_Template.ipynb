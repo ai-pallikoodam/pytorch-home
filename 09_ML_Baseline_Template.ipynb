{
  "nbformat": 4,
  "nbformat_minor": 0,
  "metadata": {
    "colab": {
      "name": "09_ML_Baseline_Template.ipynb",
      "provenance": [],
      "authorship_tag": "ABX9TyOdMDbQaNQWwdZCqm6bgYuk",
      "include_colab_link": true
    },
    "kernelspec": {
      "name": "python3",
      "display_name": "Python 3"
    },
    "language_info": {
      "name": "python"
    }
  },
  "cells": [
    {
      "cell_type": "markdown",
      "metadata": {
        "id": "view-in-github",
        "colab_type": "text"
      },
      "source": [
        "<a href=\"https://colab.research.google.com/github/ai-pallikoodam/pytorch-home/blob/main/09_ML_Baseline_Template.ipynb\" target=\"_parent\"><img src=\"https://colab.research.google.com/assets/colab-badge.svg\" alt=\"Open In Colab\"/></a>"
      ]
    },
    {
      "cell_type": "markdown",
      "source": [
        "# References\n",
        "\n",
        "[Quick Start](https://pytorch.org/tutorials/beginner/basics/intro.html)"
      ],
      "metadata": {
        "id": "3WNx5AWKaukL"
      }
    },
    {
      "cell_type": "markdown",
      "source": [
        "# 0. Prerequisites and Installations"
      ],
      "metadata": {
        "id": "jMhUGKhsaarr"
      }
    },
    {
      "cell_type": "code",
      "source": [
        ""
      ],
      "metadata": {
        "id": "CVo1XFX6abJU"
      },
      "execution_count": null,
      "outputs": []
    },
    {
      "cell_type": "markdown",
      "source": [
        "# 1 . Get Data"
      ],
      "metadata": {
        "id": "WSyRdsDRZSDv"
      }
    },
    {
      "cell_type": "code",
      "execution_count": null,
      "metadata": {
        "id": "v3sU0nheY2Zo"
      },
      "outputs": [],
      "source": [
        ""
      ]
    },
    {
      "cell_type": "markdown",
      "source": [
        "# 2. Build or Pick a Pretrained Model"
      ],
      "metadata": {
        "id": "7WLp2N2pZZ_l"
      }
    },
    {
      "cell_type": "code",
      "source": [
        ""
      ],
      "metadata": {
        "id": "NQzPpPLEZakF"
      },
      "execution_count": null,
      "outputs": []
    },
    {
      "cell_type": "markdown",
      "source": [
        "## 2.1 Pick a loss function and optimizer"
      ],
      "metadata": {
        "id": "KJKdPjxKZmDS"
      }
    },
    {
      "cell_type": "code",
      "source": [
        ""
      ],
      "metadata": {
        "id": "CR9jspNUZlu9"
      },
      "execution_count": null,
      "outputs": []
    },
    {
      "cell_type": "markdown",
      "source": [
        "## 2.2 Build a training loop"
      ],
      "metadata": {
        "id": "ysa0TtO5Z7qM"
      }
    },
    {
      "cell_type": "code",
      "source": [
        ""
      ],
      "metadata": {
        "id": "BzcuIhTvZ6R3"
      },
      "execution_count": null,
      "outputs": []
    },
    {
      "cell_type": "markdown",
      "source": [
        "# 3. Fit the model to data and make prediction"
      ],
      "metadata": {
        "id": "b5MCV7bCZjZd"
      }
    },
    {
      "cell_type": "code",
      "source": [
        ""
      ],
      "metadata": {
        "id": "1RfIc0moZ_2Z"
      },
      "execution_count": null,
      "outputs": []
    },
    {
      "cell_type": "markdown",
      "source": [
        "# 4. Evaluate the model"
      ],
      "metadata": {
        "id": "t5X6ZFTWaA9n"
      }
    },
    {
      "cell_type": "code",
      "source": [
        ""
      ],
      "metadata": {
        "id": "u-HHx9xSaHFE"
      },
      "execution_count": null,
      "outputs": []
    },
    {
      "cell_type": "markdown",
      "source": [
        "# 5. Improve through experimentation"
      ],
      "metadata": {
        "id": "vmZw64NEaHtd"
      }
    },
    {
      "cell_type": "code",
      "source": [
        ""
      ],
      "metadata": {
        "id": "yk5bGxMJaOHb"
      },
      "execution_count": null,
      "outputs": []
    },
    {
      "cell_type": "markdown",
      "source": [
        "# 6. Save and reload your trained model"
      ],
      "metadata": {
        "id": "UfnW-6nsaOr2"
      }
    },
    {
      "cell_type": "code",
      "source": [
        ""
      ],
      "metadata": {
        "id": "9ao9l6s5aZV9"
      },
      "execution_count": null,
      "outputs": []
    }
  ]
}