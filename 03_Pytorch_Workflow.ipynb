{
 "cells": [
  {
   "cell_type": "code",
   "execution_count": 1,
   "id": "9418727c-f76b-43c9-ac10-34f14f9a4d5f",
   "metadata": {},
   "outputs": [
    {
     "data": {
      "text/plain": [
       "{1: 'data (prepare and load)',\n",
       " 2: 'build model',\n",
       " 3: 'fitting the model to data (training)',\n",
       " 4: 'making predictions and evaluating a model (inference)',\n",
       " 5: 'saving and loading a model',\n",
       " 6: 'putting it all together'}"
      ]
     },
     "execution_count": 1,
     "metadata": {},
     "output_type": "execute_result"
    }
   ],
   "source": [
    "what_were_covering = {1: \"data (prepare and load)\",\n",
    "\t\t      2: \"build model\",\n",
    "\t\t      3: \"fitting the model to data (training)\",\n",
    "\t\t      4: \"making predictions and evaluating a model (inference)\",\n",
    "\t\t      5: \"saving and loading a model\",\n",
    "\t\t      6: \"putting it all together\"\n",
    "\t\t      }\n",
    "what_were_covering"
   ]
  },
  {
   "cell_type": "code",
   "execution_count": 2,
   "id": "25d28835-3e59-4741-9dd5-fd994e0eafa9",
   "metadata": {},
   "outputs": [
    {
     "data": {
      "text/plain": [
       "'1.10.1+cu102'"
      ]
     },
     "execution_count": 2,
     "metadata": {},
     "output_type": "execute_result"
    }
   ],
   "source": [
    "import torch\n",
    "from torch import nn\n",
    "import matplotlib.pyplot as plt\n",
    "\n",
    "torch.__version__"
   ]
  },
  {
   "cell_type": "markdown",
   "id": "abe7f30d-64f6-4aa5-a79d-6671344e6df0",
   "metadata": {},
   "source": [
    "## 1. data (prepare and load)"
   ]
  },
  {
   "cell_type": "code",
   "execution_count": 5,
   "id": "749651e0-4fc9-445b-9ce2-17a9ee90cc52",
   "metadata": {},
   "outputs": [],
   "source": [
    "weight = 0.7\n",
    "bias = 0.3\n",
    "\n",
    "start = 0\n",
    "end = 1\n",
    "step = 0.02\n",
    "\n",
    "X = torch.arange(start, end, step).unsqueeze(dim=1)\n",
    "y = weight * X + bias"
   ]
  },
  {
   "cell_type": "code",
   "execution_count": 6,
   "id": "3ee731e6-9093-4c74-9b8c-f20db7c80c98",
   "metadata": {},
   "outputs": [
    {
     "data": {
      "text/plain": [
       "(tensor([[0.0000],\n",
       "         [0.0200],\n",
       "         [0.0400],\n",
       "         [0.0600],\n",
       "         [0.0800],\n",
       "         [0.1000],\n",
       "         [0.1200],\n",
       "         [0.1400],\n",
       "         [0.1600],\n",
       "         [0.1800]]),\n",
       " tensor([[0.3000],\n",
       "         [0.3140],\n",
       "         [0.3280],\n",
       "         [0.3420],\n",
       "         [0.3560],\n",
       "         [0.3700],\n",
       "         [0.3840],\n",
       "         [0.3980],\n",
       "         [0.4120],\n",
       "         [0.4260]]))"
      ]
     },
     "execution_count": 6,
     "metadata": {},
     "output_type": "execute_result"
    }
   ],
   "source": [
    "X[:10], y[:10]"
   ]
  },
  {
   "cell_type": "code",
   "execution_count": 7,
   "id": "1a926b54-5c39-4c64-80ca-d986637ba437",
   "metadata": {},
   "outputs": [
    {
     "data": {
      "text/plain": [
       "(50, 50)"
      ]
     },
     "execution_count": 7,
     "metadata": {},
     "output_type": "execute_result"
    }
   ],
   "source": [
    "len(X), len(y)"
   ]
  },
  {
   "cell_type": "markdown",
   "id": "98444c5f-260c-4f58-8d0d-aca1a31f3a30",
   "metadata": {},
   "source": [
    "## 2. Splitting data"
   ]
  },
  {
   "cell_type": "code",
   "execution_count": 8,
   "id": "fb6e47f6-0439-4aef-a13f-e6d4b804afe3",
   "metadata": {},
   "outputs": [
    {
     "data": {
      "text/plain": [
       "40"
      ]
     },
     "execution_count": 8,
     "metadata": {},
     "output_type": "execute_result"
    }
   ],
   "source": [
    "train_split = int(0.8 * len(X))\n",
    "train_split"
   ]
  },
  {
   "cell_type": "code",
   "execution_count": 9,
   "id": "b6d0f93f-2994-4eb7-914e-896d7db8a10f",
   "metadata": {},
   "outputs": [],
   "source": [
    "# training set, validation set, test set\n",
    "train_split = int(0.8 * len(X))\n",
    "X_train, y_train = X[:train_split], y[:train_split]\n",
    "X_test, y_test = X[train_split:], y[train_split:]"
   ]
  },
  {
   "cell_type": "code",
   "execution_count": 11,
   "id": "a5edeb4c-7b87-4013-a6cf-97a8dd3ecb50",
   "metadata": {},
   "outputs": [
    {
     "data": {
      "text/plain": [
       "(tensor([[0.0000],\n",
       "         [0.0200],\n",
       "         [0.0400],\n",
       "         [0.0600],\n",
       "         [0.0800]]),\n",
       " tensor([[0.3000],\n",
       "         [0.3140],\n",
       "         [0.3280],\n",
       "         [0.3420],\n",
       "         [0.3560]]))"
      ]
     },
     "execution_count": 11,
     "metadata": {},
     "output_type": "execute_result"
    }
   ],
   "source": [
    "X_train[:5], y_train[:5]"
   ]
  },
  {
   "cell_type": "markdown",
   "id": "1b8d9ee0-95d4-4169-9fd7-6ac0db9835cd",
   "metadata": {},
   "source": [
    "## 3. Visualize"
   ]
  },
  {
   "cell_type": "code",
   "execution_count": 23,
   "id": "f4ceb498-feed-482d-9a34-b2a28177f9fc",
   "metadata": {},
   "outputs": [],
   "source": [
    "def plot_predictions(train_data=X_train,\n",
    "                     train_labels=y_train,\n",
    "                     test_data=X_test,\n",
    "                     test_labels=y_test,\n",
    "                     predictions=None\n",
    "                    ):\n",
    "    plt.figure(figsize=(10, 7))\n",
    "    plt.scatter(train_data, train_labels, c=\"b\", s=4, label=\"Training data\")\n",
    "    plt.scatter(test_data, test_labels, c=\"g\", s=4, label= \"Testing data\")\n",
    "    if predictions is not None:\n",
    "        plt.scatter(test_data, predictions, c=\"r\", s=4, label= \"Predictions\")\n",
    "    plt.legend(prop={\"size\": 14});"
   ]
  },
  {
   "cell_type": "code",
   "execution_count": 13,
   "id": "8c6d9de6-ccae-4b5d-a756-908ca8e8ad35",
   "metadata": {},
   "outputs": [
    {
     "data": {
      "image/png": "[encoded data removed]",
      "text/plain": [
       "<Figure size 720x504 with 1 Axes>"
      ]
     },
     "metadata": {
      "needs_background": "light"
     },
     "output_type": "display_data"
    }
   ],
   "source": [
    "plot_predictions();"
   ]
  },
  {
   "cell_type": "markdown",
   "id": "dec14021-04ad-46f8-bb94-5a16ba3bc618",
   "metadata": {},
   "source": [
    "## 4. Build a PyTorch Model"
   ]
  },
  {
   "cell_type": "code",
   "execution_count": 14,
   "id": "f5a1f62e-e8d4-4f64-8316-9761ee3dece1",
   "metadata": {},
   "outputs": [],
   "source": [
    "class LinearRegressionModel(nn.Module):\n",
    "    def __init__(self):\n",
    "        super().__init__()\n",
    "        self.weights = nn.Parameter(torch.randn(1, requires_grad=True, dtype=torch.float))\n",
    "        self.bias = nn.Parameter(torch.randn(1, requires_grad=True, dtype=torch.float))\n",
    "    def forward(self, x: torch.Tensor) -> torch.Tensor:\n",
    "        return self.weights * x + self.bias"
   ]
  },
  {
   "cell_type": "markdown",
   "id": "2889cd3c-cb4b-4f56-89a3-21d41aca589e",
   "metadata": {},
   "source": [
    "## Checking the contents of our PyTorch Model"
   ]
  },
  {
   "cell_type": "code",
   "execution_count": 15,
   "id": "2f838a94-5fe0-4590-96f3-6048bfa62a67",
   "metadata": {},
   "outputs": [],
   "source": [
    "# Create a random seed\n",
    "torch.manual_seed(42)\n",
    "\n",
    "# Create an instance of the model (this is a subclass of nn.Module)\n",
    "model_0 = LinearRegressionModel()"
   ]
  },
  {
   "cell_type": "code",
   "execution_count": 16,
   "id": "cb3fdba3-b4d6-4c20-9943-f9caacc5f9cd",
   "metadata": {},
   "outputs": [
    {
     "data": {
      "text/plain": [
       "OrderedDict([('weights', tensor([0.3367])), ('bias', tensor([0.1288]))])"
      ]
     },
     "execution_count": 16,
     "metadata": {},
     "output_type": "execute_result"
    }
   ],
   "source": [
    "# Check out the parameters\n",
    "list(model_0.parameters())\n",
    "\n",
    "# List names parameters\n",
    "model_0.state_dict()"
   ]
  },
  {
   "cell_type": "code",
   "execution_count": 17,
   "id": "61c86be4-1070-45c6-ab27-2260b75e21f6",
   "metadata": {},
   "outputs": [
    {
     "data": {
      "text/plain": [
       "(0.7, 0.3)"
      ]
     },
     "execution_count": 17,
     "metadata": {},
     "output_type": "execute_result"
    }
   ],
   "source": [
    "weight, bias"
   ]
  },
  {
   "cell_type": "code",
   "execution_count": 18,
   "id": "031e9f4f-7232-4da5-9509-f1814478ceed",
   "metadata": {},
   "outputs": [],
   "source": [
    "## Making prediction using torch.inference_mode()\n",
    "with torch.inference_mode():\n",
    "\ty_preds = model_0(X_test)"
   ]
  },
  {
   "cell_type": "code",
   "execution_count": 21,
   "id": "3f7d33f1-87f2-4d85-8f9f-748e3f6c9255",
   "metadata": {},
   "outputs": [
    {
     "data": {
      "text/plain": [
       "(tensor([[0.8000],\n",
       "         [0.8200],\n",
       "         [0.8400],\n",
       "         [0.8600],\n",
       "         [0.8800]]),\n",
       " tensor([[0.3982],\n",
       "         [0.4049],\n",
       "         [0.4116],\n",
       "         [0.4184],\n",
       "         [0.4251]]))"
      ]
     },
     "execution_count": 21,
     "metadata": {},
     "output_type": "execute_result"
    }
   ],
   "source": [
    "X_test[:5], y_preds[:5]"
   ]
  },
  {
   "cell_type": "code",
   "execution_count": 24,
   "id": "9a64f9d3-b193-4a2c-bcbf-0f89c4cae71e",
   "metadata": {},
   "outputs": [
    {
     "data": {
      "image/png": "[encoded data removed]",
      "text/plain": [
       "<Figure size 720x504 with 1 Axes>"
      ]
     },
     "metadata": {
      "needs_background": "light"
     },
     "output_type": "display_data"
    }
   ],
   "source": [
    "plot_predictions(predictions=y_preds)"
   ]
  },
  {
   "cell_type": "markdown",
   "id": "94ee234b-6dc0-47e1-a58b-ac7b2e5b811d",
   "metadata": {},
   "source": [
    "## 4. Train Model"
   ]
  },
  {
   "cell_type": "code",
   "execution_count": 33,
   "id": "eaf5f56d-e4b5-4825-a4c8-d4ae34c98b31",
   "metadata": {},
   "outputs": [],
   "source": [
    "# Setup a loss function\n",
    "loss_fn = nn.L1Loss()"
   ]
  },
  {
   "cell_type": "code",
   "execution_count": 26,
   "id": "76e191a6-a07f-486f-ae42-968e81aea24f",
   "metadata": {},
   "outputs": [],
   "source": [
    "# Setup an optimizer\n",
    "optimizer = torch.optim.SGD(model_0.parameters(),lr=0.01)"
   ]
  },
  {
   "cell_type": "code",
   "execution_count": 38,
   "id": "3b6591c5-e5b4-4aa8-8413-20035e986454",
   "metadata": {},
   "outputs": [
    {
     "name": "stdout",
     "output_type": "stream",
     "text": [
      "Loss : 0.18615034222602844\n",
      "Loss : 0.1746293306350708\n",
      "Loss : 0.16310831904411316\n",
      "Loss : 0.1515873372554779\n",
      "Loss : 0.14006635546684265\n",
      "Loss : 0.1285453587770462\n",
      "Loss : 0.11702437698841095\n",
      "Loss : 0.1060912236571312\n",
      "Loss : 0.09681284427642822\n",
      "Loss : 0.08908725529909134\n",
      "Loss : 0.08227583020925522\n",
      "Loss : 0.07638873159885406\n",
      "Loss : 0.07160007208585739\n",
      "Loss : 0.06747635453939438\n",
      "Loss : 0.06395438313484192\n",
      "Loss : 0.06097004935145378\n",
      "Loss : 0.05845819041132927\n",
      "Loss : 0.05635259300470352\n",
      "Loss : 0.0545857772231102\n",
      "Loss : 0.053148526698350906\n",
      "Loss : 0.05181945487856865\n",
      "Loss : 0.05069301277399063\n",
      "Loss : 0.0498228520154953\n",
      "Loss : 0.04895269125699997\n",
      "Loss : 0.04819351062178612\n",
      "Loss : 0.047531817108392715\n",
      "Loss : 0.04692792519927025\n",
      "Loss : 0.04642331600189209\n",
      "Loss : 0.04591871052980423\n",
      "Loss : 0.04543796554207802\n",
      "Loss : 0.04503796249628067\n",
      "Loss : 0.04463795945048332\n",
      "Loss : 0.04423796385526657\n",
      "Loss : 0.04383796453475952\n",
      "Loss : 0.04343796148896217\n",
      "Loss : 0.043074630200862885\n",
      "Loss : 0.04272563382983208\n",
      "Loss : 0.04237663000822067\n",
      "Loss : 0.04202762991189957\n",
      "Loss : 0.04167863354086876\n",
      "Loss : 0.04132963344454765\n",
      "Loss : 0.04098063334822655\n",
      "Loss : 0.04063162952661514\n",
      "Loss : 0.040282636880874634\n",
      "Loss : 0.039933640509843826\n",
      "Loss : 0.03958464413881302\n",
      "Loss : 0.03923564404249191\n",
      "Loss : 0.03888664394617081\n",
      "Loss : 0.0385376438498497\n",
      "Loss : 0.03818932920694351\n",
      "Loss : 0.03785243630409241\n",
      "Loss : 0.0375034399330616\n",
      "Loss : 0.037164121866226196\n",
      "Loss : 0.03681822493672371\n",
      "Loss : 0.03647511452436447\n",
      "Loss : 0.03613303601741791\n",
      "Loss : 0.03578609973192215\n",
      "Loss : 0.03544783592224121\n",
      "Loss : 0.035098835825920105\n",
      "Loss : 0.03476089984178543\n",
      "Loss : 0.03441363573074341\n",
      "Loss : 0.03407188132405281\n",
      "Loss : 0.03372843936085701\n",
      "Loss : 0.03338287025690079\n",
      "Loss : 0.033043231815099716\n",
      "Loss : 0.03269423171877861\n",
      "Loss : 0.032357655465602875\n",
      "Loss : 0.03200903534889221\n",
      "Loss : 0.03166864812374115\n",
      "Loss : 0.03132382780313492\n",
      "Loss : 0.030979642644524574\n",
      "Loss : 0.030638623982667923\n",
      "Loss : 0.0302906334400177\n",
      "Loss : 0.029953425750136375\n",
      "Loss : 0.02960442565381527\n",
      "Loss : 0.029265418648719788\n",
      "Loss : 0.028919223695993423\n",
      "Loss : 0.028576409444212914\n",
      "Loss : 0.028234025463461876\n",
      "Loss : 0.02788739837706089\n",
      "Loss : 0.02754882536828518\n",
      "Loss : 0.027199819684028625\n",
      "Loss : 0.026862185448408127\n",
      "Loss : 0.02651461586356163\n",
      "Loss : 0.026173178106546402\n",
      "Loss : 0.025829419493675232\n",
      "Loss : 0.02548416517674923\n",
      "Loss : 0.025144213810563087\n",
      "Loss : 0.02479521557688713\n",
      "Loss : 0.024458957836031914\n",
      "Loss : 0.024110013619065285\n",
      "Loss : 0.02376994863152504\n",
      "Loss : 0.02342480979859829\n",
      "Loss : 0.023080935701727867\n",
      "Loss : 0.022739607840776443\n",
      "Loss : 0.022391926497220993\n",
      "Loss : 0.022054409608244896\n",
      "Loss : 0.02170540764927864\n",
      "Loss : 0.021366719156503677\n",
      "Loss : 0.021020207554101944\n"
     ]
    }
   ],
   "source": [
    "# Setup a training loss\n",
    "\n",
    "epochs = 100\n",
    "# 1. Loop through the data\n",
    "for epoch in range(epochs):\n",
    "    # Set the model to training mode\n",
    "    model_0.train()\n",
    "    # 2. Forward pass\n",
    "    y_pred = model_0(X_train)\n",
    "    # 3. Calculate the loss\n",
    "    loss = loss_fn(y_pred, y_train)\n",
    "    print(f\"Loss : {loss}\")\n",
    "    # 4. Optimizer zero grad\n",
    "    optimizer.zero_grad()\n",
    "    # 5. Loss backward\n",
    "    loss.backward()\n",
    "    # 6. Optimizer step\n",
    "    optimizer.step()"
   ]
  },
  {
   "cell_type": "code",
   "execution_count": 39,
   "id": "139ed0b2-1a55-471d-800d-e8e57cbae100",
   "metadata": {},
   "outputs": [
    {
     "data": {
      "image/png": "[encoded data removed]",
      "text/plain": [
       "<Figure size 720x504 with 1 Axes>"
      ]
     },
     "metadata": {
      "needs_background": "light"
     },
     "output_type": "display_data"
    }
   ],
   "source": [
    "# Predictions\n",
    "with torch.inference_mode():\n",
    "\ty_preds_new = model_0(X_test)\n",
    "\n",
    "plot_predictions(predictions=y_preds_new)"
   ]
  },
  {
   "cell_type": "markdown",
   "id": "deebfd60-e4f4-4f66-8177-f6eb208fed1f",
   "metadata": {},
   "source": [
    "## 5. Saving a model in PyTorch"
   ]
  }
 ],
 "metadata": {
  "kernelspec": {
   "display_name": "default:Python",
   "language": "python",
   "name": "conda-env-default-py"
  },
  "language_info": {
   "codemirror_mode": {
    "name": "ipython",
    "version": 3
   },
   "file_extension": ".py",
   "mimetype": "text/x-python",
   "name": "python",
   "nbconvert_exporter": "python",
   "pygments_lexer": "ipython3",
   "version": "3.9.7"
  }
 },
 "nbformat": 4,
 "nbformat_minor": 5
}
