{
  "cells": [
    {
      "cell_type": "markdown",
      "metadata": {
        "id": "view-in-github",
        "colab_type": "text"
      },
      "source": [
        "<a href=\"https://colab.research.google.com/github/ai-pallikoodam/pytorch-home/blob/main/03_Pytorch_Workflow.ipynb\" target=\"_parent\"><img src=\"https://colab.research.google.com/assets/colab-badge.svg\" alt=\"Open In Colab\"/></a>"
      ]
    },
    {
      "cell_type": "code",
      "execution_count": 1,
      "id": "9418727c-f76b-43c9-ac10-34f14f9a4d5f",
      "metadata": {
        "id": "9418727c-f76b-43c9-ac10-34f14f9a4d5f",
        "outputId": "160557a7-84b5-4c89-9906-5e7c8a9a20b9",
        "colab": {
          "base_uri": "https://localhost:8080/"
        }
      },
      "outputs": [
        {
          "output_type": "execute_result",
          "data": {
            "text/plain": [
              "{1: 'data (prepare and load)',\n",
              " 2: 'build model',\n",
              " 3: 'fitting the model to data (training)',\n",
              " 4: 'making predictions and evaluating a model (inference)',\n",
              " 5: 'saving and loading a model',\n",
              " 6: 'putting it all together'}"
            ]
          },
          "metadata": {},
          "execution_count": 1
        }
      ],
      "source": [
        "what_were_covering = {1: \"data (prepare and load)\",\n",
        "\t\t      2: \"build model\",\n",
        "\t\t      3: \"fitting the model to data (training)\",\n",
        "\t\t      4: \"making predictions and evaluating a model (inference)\",\n",
        "\t\t      5: \"saving and loading a model\",\n",
        "\t\t      6: \"putting it all together\"\n",
        "\t\t      }\n",
        "what_were_covering"
      ]
    },
    {
      "cell_type": "code",
      "execution_count": 2,
      "id": "25d28835-3e59-4741-9dd5-fd994e0eafa9",
      "metadata": {
        "id": "25d28835-3e59-4741-9dd5-fd994e0eafa9",
        "outputId": "9a94b8f0-c412-4ef2-c451-9b878274eaa4",
        "colab": {
          "base_uri": "https://localhost:8080/",
          "height": 35
        }
      },
      "outputs": [
        {
          "output_type": "execute_result",
          "data": {
            "text/plain": [
              "'1.12.0+cu113'"
            ],
            "application/vnd.google.colaboratory.intrinsic+json": {
              "type": "string"
            }
          },
          "metadata": {},
          "execution_count": 2
        }
      ],
      "source": [
        "import torch\n",
        "from torch import nn\n",
        "import matplotlib.pyplot as plt\n",
        "\n",
        "torch.__version__"
      ]
    },
    {
      "cell_type": "markdown",
      "id": "abe7f30d-64f6-4aa5-a79d-6671344e6df0",
      "metadata": {
        "id": "abe7f30d-64f6-4aa5-a79d-6671344e6df0"
      },
      "source": [
        "## 1. data (prepare and load)"
      ]
    },
    {
      "cell_type": "code",
      "execution_count": 3,
      "id": "749651e0-4fc9-445b-9ce2-17a9ee90cc52",
      "metadata": {
        "id": "749651e0-4fc9-445b-9ce2-17a9ee90cc52"
      },
      "outputs": [],
      "source": [
        "weight = 0.7\n",
        "bias = 0.3\n",
        "\n",
        "start = 0\n",
        "end = 1\n",
        "step = 0.02\n",
        "\n",
        "X = torch.arange(start, end, step).unsqueeze(dim=1)\n",
        "y = weight * X + bias"
      ]
    },
    {
      "cell_type": "code",
      "execution_count": 4,
      "id": "3ee731e6-9093-4c74-9b8c-f20db7c80c98",
      "metadata": {
        "id": "3ee731e6-9093-4c74-9b8c-f20db7c80c98",
        "outputId": "9e69229f-b055-4f77-c65e-8870b6a8a51c",
        "colab": {
          "base_uri": "https://localhost:8080/"
        }
      },
      "outputs": [
        {
          "output_type": "execute_result",
          "data": {
            "text/plain": [
              "(tensor([[0.0000],\n",
              "         [0.0200],\n",
              "         [0.0400],\n",
              "         [0.0600],\n",
              "         [0.0800],\n",
              "         [0.1000],\n",
              "         [0.1200],\n",
              "         [0.1400],\n",
              "         [0.1600],\n",
              "         [0.1800]]), tensor([[0.3000],\n",
              "         [0.3140],\n",
              "         [0.3280],\n",
              "         [0.3420],\n",
              "         [0.3560],\n",
              "         [0.3700],\n",
              "         [0.3840],\n",
              "         [0.3980],\n",
              "         [0.4120],\n",
              "         [0.4260]]))"
            ]
          },
          "metadata": {},
          "execution_count": 4
        }
      ],
      "source": [
        "X[:10], y[:10]"
      ]
    },
    {
      "cell_type": "code",
      "execution_count": 5,
      "id": "1a926b54-5c39-4c64-80ca-d986637ba437",
      "metadata": {
        "id": "1a926b54-5c39-4c64-80ca-d986637ba437",
        "outputId": "e9161a7a-3d4f-4254-ee29-a8903df0180e",
        "colab": {
          "base_uri": "https://localhost:8080/"
        }
      },
      "outputs": [
        {
          "output_type": "execute_result",
          "data": {
            "text/plain": [
              "(50, 50)"
            ]
          },
          "metadata": {},
          "execution_count": 5
        }
      ],
      "source": [
        "len(X), len(y)"
      ]
    },
    {
      "cell_type": "markdown",
      "id": "98444c5f-260c-4f58-8d0d-aca1a31f3a30",
      "metadata": {
        "id": "98444c5f-260c-4f58-8d0d-aca1a31f3a30"
      },
      "source": [
        "## 2. Splitting data"
      ]
    },
    {
      "cell_type": "code",
      "execution_count": 6,
      "id": "fb6e47f6-0439-4aef-a13f-e6d4b804afe3",
      "metadata": {
        "id": "fb6e47f6-0439-4aef-a13f-e6d4b804afe3",
        "outputId": "dd3a2002-0e62-4d77-b1b8-0576ea7eb8fd",
        "colab": {
          "base_uri": "https://localhost:8080/"
        }
      },
      "outputs": [
        {
          "output_type": "execute_result",
          "data": {
            "text/plain": [
              "40"
            ]
          },
          "metadata": {},
          "execution_count": 6
        }
      ],
      "source": [
        "train_split = int(0.8 * len(X))\n",
        "train_split"
      ]
    },
    {
      "cell_type": "code",
      "execution_count": 7,
      "id": "b6d0f93f-2994-4eb7-914e-896d7db8a10f",
      "metadata": {
        "id": "b6d0f93f-2994-4eb7-914e-896d7db8a10f"
      },
      "outputs": [],
      "source": [
        "# training set, validation set, test set\n",
        "train_split = int(0.8 * len(X))\n",
        "X_train, y_train = X[:train_split], y[:train_split]\n",
        "X_test, y_test = X[train_split:], y[train_split:]"
      ]
    },
    {
      "cell_type": "code",
      "execution_count": 8,
      "id": "a5edeb4c-7b87-4013-a6cf-97a8dd3ecb50",
      "metadata": {
        "id": "a5edeb4c-7b87-4013-a6cf-97a8dd3ecb50",
        "outputId": "1ab58784-eddf-4b2a-a725-f14db7d78b26",
        "colab": {
          "base_uri": "https://localhost:8080/"
        }
      },
      "outputs": [
        {
          "output_type": "execute_result",
          "data": {
            "text/plain": [
              "(tensor([[0.0000],\n",
              "         [0.0200],\n",
              "         [0.0400],\n",
              "         [0.0600],\n",
              "         [0.0800]]), tensor([[0.3000],\n",
              "         [0.3140],\n",
              "         [0.3280],\n",
              "         [0.3420],\n",
              "         [0.3560]]))"
            ]
          },
          "metadata": {},
          "execution_count": 8
        }
      ],
      "source": [
        "X_train[:5], y_train[:5]"
      ]
    },
    {
      "cell_type": "markdown",
      "id": "1b8d9ee0-95d4-4169-9fd7-6ac0db9835cd",
      "metadata": {
        "id": "1b8d9ee0-95d4-4169-9fd7-6ac0db9835cd"
      },
      "source": [
        "## 3. Visualize"
      ]
    },
    {
      "cell_type": "code",
      "execution_count": 9,
      "id": "f4ceb498-feed-482d-9a34-b2a28177f9fc",
      "metadata": {
        "id": "f4ceb498-feed-482d-9a34-b2a28177f9fc"
      },
      "outputs": [],
      "source": [
        "def plot_predictions(train_data=X_train,\n",
        "                     train_labels=y_train,\n",
        "                     test_data=X_test,\n",
        "                     test_labels=y_test,\n",
        "                     predictions=None\n",
        "                    ):\n",
        "    plt.figure(figsize=(10, 7))\n",
        "    plt.scatter(train_data, train_labels, c=\"b\", s=4, label=\"Training data\")\n",
        "    plt.scatter(test_data, test_labels, c=\"g\", s=4, label= \"Testing data\")\n",
        "    if predictions is not None:\n",
        "        plt.scatter(test_data, predictions, c=\"r\", s=4, label= \"Predictions\")\n",
        "    plt.legend(prop={\"size\": 14});"
      ]
    },
    {
      "cell_type": "code",
      "execution_count": 10,
      "id": "8c6d9de6-ccae-4b5d-a756-908ca8e8ad35",
      "metadata": {
        "id": "8c6d9de6-ccae-4b5d-a756-908ca8e8ad35",
        "outputId": "3cfc91c7-528a-422e-dab3-15e9a96847f0",
        "colab": {
          "base_uri": "https://localhost:8080/",
          "height": 428
        }
      },
      "outputs": [
        {
          "output_type": "display_data",
          "data": {
            "text/plain": [
              "<Figure size 720x504 with 1 Axes>"
            ],
            "image/png": "[encoded data removed]"
          },
          "metadata": {
            "needs_background": "light"
          }
        }
      ],
      "source": [
        "plot_predictions();"
      ]
    },
    {
      "cell_type": "markdown",
      "id": "dec14021-04ad-46f8-bb94-5a16ba3bc618",
      "metadata": {
        "id": "dec14021-04ad-46f8-bb94-5a16ba3bc618"
      },
      "source": [
        "## 4. Build a PyTorch Model"
      ]
    },
    {
      "cell_type": "code",
      "execution_count": 11,
      "id": "f5a1f62e-e8d4-4f64-8316-9761ee3dece1",
      "metadata": {
        "id": "f5a1f62e-e8d4-4f64-8316-9761ee3dece1"
      },
      "outputs": [],
      "source": [
        "class LinearRegressionModel(nn.Module):\n",
        "    def __init__(self):\n",
        "        super().__init__()\n",
        "        self.weights = nn.Parameter(torch.randn(1, requires_grad=True, dtype=torch.float))\n",
        "        self.bias = nn.Parameter(torch.randn(1, requires_grad=True, dtype=torch.float))\n",
        "    def forward(self, x: torch.Tensor) -> torch.Tensor:\n",
        "        return self.weights * x + self.bias"
      ]
    },
    {
      "cell_type": "code",
      "source": [
        "class LinearRegressionModelV2(nn.Module):\n",
        "\tdef __init__(self):\n",
        "\t\tsuper().__init__()\n",
        "\t\tself.linear_layer = nn.Linear(in_features=1,out_features=1)\n",
        "\tdef forward(self, x: torch.Tensor) -> torch.Tensor:\n",
        "\t\treturn self.linear_layer(x)"
      ],
      "metadata": {
        "id": "1te0pJY3ucTj"
      },
      "id": "1te0pJY3ucTj",
      "execution_count": 12,
      "outputs": []
    },
    {
      "cell_type": "markdown",
      "id": "2889cd3c-cb4b-4f56-89a3-21d41aca589e",
      "metadata": {
        "id": "2889cd3c-cb4b-4f56-89a3-21d41aca589e"
      },
      "source": [
        "## Checking the contents of our PyTorch Model"
      ]
    },
    {
      "cell_type": "code",
      "execution_count": 13,
      "id": "2f838a94-5fe0-4590-96f3-6048bfa62a67",
      "metadata": {
        "id": "2f838a94-5fe0-4590-96f3-6048bfa62a67"
      },
      "outputs": [],
      "source": [
        "# Create a random seed\n",
        "torch.manual_seed(42)\n",
        "\n",
        "# Create an instance of the model (this is a subclass of nn.Module)\n",
        "#model_0 = LinearRegressionModel()\n",
        "model_0 = LinearRegressionModelV2()"
      ]
    },
    {
      "cell_type": "code",
      "execution_count": 14,
      "id": "0aa1d285-4318-46be-babc-3645ea95905f",
      "metadata": {
        "id": "0aa1d285-4318-46be-babc-3645ea95905f",
        "outputId": "d29f62a5-7b76-402b-ec36-7e18f9d09c49",
        "colab": {
          "base_uri": "https://localhost:8080/"
        }
      },
      "outputs": [
        {
          "output_type": "execute_result",
          "data": {
            "text/plain": [
              "[Parameter containing:\n",
              " tensor([[0.7645]], requires_grad=True), Parameter containing:\n",
              " tensor([0.8300], requires_grad=True)]"
            ]
          },
          "metadata": {},
          "execution_count": 14
        }
      ],
      "source": [
        "# Check out the parameters\n",
        "list(model_0.parameters())"
      ]
    },
    {
      "cell_type": "code",
      "execution_count": 15,
      "id": "cb3fdba3-b4d6-4c20-9943-f9caacc5f9cd",
      "metadata": {
        "id": "cb3fdba3-b4d6-4c20-9943-f9caacc5f9cd",
        "outputId": "219c83cb-d67e-4f3a-f167-cabcbccba144",
        "colab": {
          "base_uri": "https://localhost:8080/"
        }
      },
      "outputs": [
        {
          "output_type": "execute_result",
          "data": {
            "text/plain": [
              "OrderedDict([('linear_layer.weight', tensor([[0.7645]])),\n",
              "             ('linear_layer.bias', tensor([0.8300]))])"
            ]
          },
          "metadata": {},
          "execution_count": 15
        }
      ],
      "source": [
        "# List names parameters\n",
        "model_0.state_dict()"
      ]
    },
    {
      "cell_type": "code",
      "execution_count": 16,
      "id": "61c86be4-1070-45c6-ab27-2260b75e21f6",
      "metadata": {
        "id": "61c86be4-1070-45c6-ab27-2260b75e21f6",
        "outputId": "14ed07b8-ecc1-4dea-953b-bee2362a44a5",
        "colab": {
          "base_uri": "https://localhost:8080/"
        }
      },
      "outputs": [
        {
          "output_type": "execute_result",
          "data": {
            "text/plain": [
              "(0.7, 0.3)"
            ]
          },
          "metadata": {},
          "execution_count": 16
        }
      ],
      "source": [
        "weight, bias"
      ]
    },
    {
      "cell_type": "code",
      "execution_count": 17,
      "id": "031e9f4f-7232-4da5-9509-f1814478ceed",
      "metadata": {
        "id": "031e9f4f-7232-4da5-9509-f1814478ceed"
      },
      "outputs": [],
      "source": [
        "## Making prediction using torch.inference_mode()\n",
        "with torch.inference_mode():\n",
        "\ty_preds = model_0(X_test)"
      ]
    },
    {
      "cell_type": "code",
      "execution_count": 18,
      "id": "3f7d33f1-87f2-4d85-8f9f-748e3f6c9255",
      "metadata": {
        "id": "3f7d33f1-87f2-4d85-8f9f-748e3f6c9255",
        "outputId": "c0bee0e5-a89e-4efa-ee16-8b4ba87197eb",
        "colab": {
          "base_uri": "https://localhost:8080/"
        }
      },
      "outputs": [
        {
          "output_type": "execute_result",
          "data": {
            "text/plain": [
              "(tensor([[0.8000],\n",
              "         [0.8200],\n",
              "         [0.8400],\n",
              "         [0.8600],\n",
              "         [0.8800]]), tensor([[1.4416],\n",
              "         [1.4569],\n",
              "         [1.4722],\n",
              "         [1.4875],\n",
              "         [1.5028]]))"
            ]
          },
          "metadata": {},
          "execution_count": 18
        }
      ],
      "source": [
        "X_test[:5], y_preds[:5]"
      ]
    },
    {
      "cell_type": "code",
      "execution_count": 19,
      "id": "9a64f9d3-b193-4a2c-bcbf-0f89c4cae71e",
      "metadata": {
        "id": "9a64f9d3-b193-4a2c-bcbf-0f89c4cae71e",
        "outputId": "838d1c57-d117-46e2-d967-eadc0412122d",
        "colab": {
          "base_uri": "https://localhost:8080/",
          "height": 428
        }
      },
      "outputs": [
        {
          "output_type": "display_data",
          "data": {
            "text/plain": [
              "<Figure size 720x504 with 1 Axes>"
            ],
            "image/png": "[encoded data removed]"
          },
          "metadata": {
            "needs_background": "light"
          }
        }
      ],
      "source": [
        "plot_predictions(predictions=y_preds)"
      ]
    },
    {
      "cell_type": "markdown",
      "id": "94ee234b-6dc0-47e1-a58b-ac7b2e5b811d",
      "metadata": {
        "id": "94ee234b-6dc0-47e1-a58b-ac7b2e5b811d"
      },
      "source": [
        "## 4. Train Model"
      ]
    },
    {
      "cell_type": "code",
      "execution_count": 20,
      "id": "eaf5f56d-e4b5-4825-a4c8-d4ae34c98b31",
      "metadata": {
        "id": "eaf5f56d-e4b5-4825-a4c8-d4ae34c98b31"
      },
      "outputs": [],
      "source": [
        "# Setup a loss function\n",
        "loss_fn = nn.L1Loss()"
      ]
    },
    {
      "cell_type": "code",
      "execution_count": 21,
      "id": "76e191a6-a07f-486f-ae42-968e81aea24f",
      "metadata": {
        "id": "76e191a6-a07f-486f-ae42-968e81aea24f"
      },
      "outputs": [],
      "source": [
        "# Setup an optimizer\n",
        "optimizer = torch.optim.SGD(model_0.parameters(),lr=0.01)"
      ]
    },
    {
      "cell_type": "code",
      "execution_count": 22,
      "id": "3b6591c5-e5b4-4aa8-8413-20035e986454",
      "metadata": {
        "id": "3b6591c5-e5b4-4aa8-8413-20035e986454",
        "outputId": "a2b05f5c-a0ee-4b70-b723-0f4efb88e16c",
        "colab": {
          "base_uri": "https://localhost:8080/"
        }
      },
      "outputs": [
        {
          "output_type": "stream",
          "name": "stdout",
          "text": [
            "Epoch: 0 | Loss: 0.5551779866218567 | Test loss: 0.5739762187004089\n",
            "Epoch: 10 | Loss: 0.4399680495262146 | Test loss: 0.4392663538455963\n",
            "Epoch: 20 | Loss: 0.3247582018375397 | Test loss: 0.30455657839775085\n",
            "Epoch: 30 | Loss: 0.20954827964305878 | Test loss: 0.16984674334526062\n",
            "Epoch: 40 | Loss: 0.09433844685554504 | Test loss: 0.03513689711689949\n",
            "Epoch: 50 | Loss: 0.023886386305093765 | Test loss: 0.04784906655550003\n",
            "Epoch: 60 | Loss: 0.0199567973613739 | Test loss: 0.04580312222242355\n",
            "Epoch: 70 | Loss: 0.016517987474799156 | Test loss: 0.0375305712223053\n",
            "Epoch: 80 | Loss: 0.013089170679450035 | Test loss: 0.029944902285933495\n",
            "Epoch: 90 | Loss: 0.009653178043663502 | Test loss: 0.02167237363755703\n",
            "Epoch: 100 | Loss: 0.006215679459273815 | Test loss: 0.014086711220443249\n",
            "Epoch: 110 | Loss: 0.002787243574857712 | Test loss: 0.005814164876937866\n",
            "Epoch: 120 | Loss: 0.0012645035749301314 | Test loss: 0.013801807537674904\n",
            "Epoch: 130 | Loss: 0.0012645035749301314 | Test loss: 0.013801807537674904\n",
            "Epoch: 140 | Loss: 0.0012645035749301314 | Test loss: 0.013801807537674904\n",
            "Epoch: 150 | Loss: 0.0012645035749301314 | Test loss: 0.013801807537674904\n"
          ]
        }
      ],
      "source": [
        "# Setup a training loss\n",
        "epoch_count = []\n",
        "loss_values = []\n",
        "test_loss_values = []\n",
        "\n",
        "epochs = 160\n",
        "# 1. Loop through the data\n",
        "for epoch in range(epochs):\n",
        "    # Set the model to training mode\n",
        "    model_0.train()\n",
        "    # 2. Forward pass\n",
        "    y_pred = model_0(X_train)\n",
        "    # 3. Calculate the loss\n",
        "    loss = loss_fn(y_pred, y_train)\n",
        "    # print(f\"Loss : {loss}\")\n",
        "    # 4. Optimizer zero grad\n",
        "    optimizer.zero_grad()\n",
        "    # 5. Loss backward\n",
        "    loss.backward()\n",
        "    # 6. Optimizer step\n",
        "    optimizer.step()\n",
        "    # Print out what's happening\n",
        "    \n",
        "    \n",
        "    with torch.inference_mode(): #or .no_grad()\n",
        "        # 0. Set the model to evaluation mode\n",
        "        model_0.eval()\n",
        "\n",
        "        # 1. Do the forward pass\n",
        "        test_pred = model_0(X_test)\n",
        "\n",
        "        # 2. Calculate the loss\n",
        "        test_loss = loss_fn(test_pred, y_test)\n",
        "        # print(f\"Train Loss: {loss} | Test loss: {test_loss}\")\n",
        "    \n",
        "    if epoch % 10 == 0:\n",
        "        epoch_count.append(epoch)\n",
        "        loss_values.append(loss)\n",
        "        test_loss_values.append(test_loss)\n",
        "        print(f\"Epoch: {epoch} | Loss: {loss} | Test loss: {test_loss}\")"
      ]
    },
    {
      "cell_type": "code",
      "execution_count": 23,
      "id": "3315a3a0-e2ab-4d0d-a08e-c16c84ec992a",
      "metadata": {
        "id": "3315a3a0-e2ab-4d0d-a08e-c16c84ec992a"
      },
      "outputs": [],
      "source": [
        "import numpy as np"
      ]
    },
    {
      "cell_type": "code",
      "execution_count": 24,
      "id": "eb018919-2e9d-49b7-96f3-4cb56e85fcf0",
      "metadata": {
        "id": "eb018919-2e9d-49b7-96f3-4cb56e85fcf0",
        "outputId": "79a7082e-3346-4895-a726-df03eec1fe31",
        "colab": {
          "base_uri": "https://localhost:8080/",
          "height": 295
        }
      },
      "outputs": [
        {
          "output_type": "display_data",
          "data": {
            "text/plain": [
              "<Figure size 432x288 with 1 Axes>"
            ],
            "image/png": "[encoded data removed]"
          },
          "metadata": {
            "needs_background": "light"
          }
        }
      ],
      "source": [
        "\n",
        "# Plot the loss curves\n",
        "plt.plot(epoch_count, np.array(torch.tensor(loss_values).numpy()), label=\"Train loss\")\n",
        "plt.plot(epoch_count, np.array(torch.tensor(test_loss_values).numpy()) , label=\"Test loss\")\n",
        "plt.title(\"Training and test loss curves\")\n",
        "plt.ylabel(\"Loss\")\n",
        "plt.xlabel(\"Epochs\")\n",
        "plt.legend();"
      ]
    },
    {
      "cell_type": "code",
      "execution_count": 25,
      "id": "139ed0b2-1a55-471d-800d-e8e57cbae100",
      "metadata": {
        "id": "139ed0b2-1a55-471d-800d-e8e57cbae100",
        "outputId": "60ab500d-0a6f-4e9a-bd02-b081061cf4b1",
        "colab": {
          "base_uri": "https://localhost:8080/",
          "height": 428
        }
      },
      "outputs": [
        {
          "output_type": "display_data",
          "data": {
            "text/plain": [
              "<Figure size 720x504 with 1 Axes>"
            ],
            "image/png": "[encoded data removed]"
          },
          "metadata": {
            "needs_background": "light"
          }
        }
      ],
      "source": [
        "# Predictions\n",
        "with torch.inference_mode():\n",
        "\ty_preds_new = model_0(X_test)\n",
        "\n",
        "plot_predictions(predictions=y_preds_new)"
      ]
    },
    {
      "cell_type": "markdown",
      "id": "5ffe0f52-0a94-4b0d-b86d-20a1c5df2765",
      "metadata": {
        "id": "5ffe0f52-0a94-4b0d-b86d-20a1c5df2765"
      },
      "source": [
        "# Evaluate Model 0"
      ]
    },
    {
      "cell_type": "code",
      "execution_count": 26,
      "id": "7d457626-264d-42e8-a7ea-13b27a811396",
      "metadata": {
        "id": "7d457626-264d-42e8-a7ea-13b27a811396",
        "outputId": "ac90d7ff-dd71-48ef-e621-fc0968388f7f",
        "colab": {
          "base_uri": "https://localhost:8080/"
        }
      },
      "outputs": [
        {
          "output_type": "stream",
          "name": "stdout",
          "text": [
            "Train Loss: 0.010256484150886536 | Test loss: 0.0003308236482553184\n"
          ]
        }
      ],
      "source": [
        "with torch.inference_mode(): #or .no_grad()\n",
        "    # 0. Set the model to evaluation mode\n",
        "    model_0.eval()\n",
        "\n",
        "    # 1. Do the forward pass\n",
        "    test_pred = model_0(X_test)\n",
        "\n",
        "    # 2. Calculate the loss\n",
        "    test_loss = loss_fn(test_pred, y_test)\n",
        "    print(f\"Train Loss: {loss} | Test loss: {test_loss}\")"
      ]
    },
    {
      "cell_type": "markdown",
      "id": "deebfd60-e4f4-4f66-8177-f6eb208fed1f",
      "metadata": {
        "id": "deebfd60-e4f4-4f66-8177-f6eb208fed1f"
      },
      "source": [
        "## 5. Saving a model in PyTorch"
      ]
    },
    {
      "cell_type": "code",
      "execution_count": 27,
      "id": "f8133c5f-3559-4d7d-9d6f-6d3a8d568737",
      "metadata": {
        "id": "f8133c5f-3559-4d7d-9d6f-6d3a8d568737",
        "outputId": "d075cc03-f9ab-47ad-9e86-0551a84789f0",
        "colab": {
          "base_uri": "https://localhost:8080/"
        }
      },
      "outputs": [
        {
          "output_type": "execute_result",
          "data": {
            "text/plain": [
              "OrderedDict([('linear_layer.weight', tensor([[0.6968]])),\n",
              "             ('linear_layer.bias', tensor([0.3025]))])"
            ]
          },
          "metadata": {},
          "execution_count": 27
        }
      ],
      "source": [
        "model_0.state_dict()"
      ]
    },
    {
      "cell_type": "code",
      "execution_count": 28,
      "id": "67475abb-3b72-4e00-b381-5c213c77125d",
      "metadata": {
        "id": "67475abb-3b72-4e00-b381-5c213c77125d",
        "outputId": "ba79a7cf-0923-4c50-e4ff-96e7735817b7",
        "colab": {
          "base_uri": "https://localhost:8080/"
        }
      },
      "outputs": [
        {
          "output_type": "stream",
          "name": "stdout",
          "text": [
            "Saving model to : models/01_pytorch_workflow_model_0.pth\n"
          ]
        }
      ],
      "source": [
        "from pathlib import Path\n",
        "\n",
        "# 1. Create models directory\n",
        "MODEL_PATH = Path(\"models\")\n",
        "MODEL_PATH.mkdir(parents=True, exist_ok=True)\n",
        "\n",
        "# 2. Create model save path\n",
        "MODEL_NAME=\"01_pytorch_workflow_model_0.pth\"\n",
        "MODEL_SAVE_PATH = MODEL_PATH / MODEL_NAME\n",
        "\n",
        "MODEL_SAVE_PATH\n",
        "\n",
        "# 3. Save the model state dict\n",
        "print(f\"Saving model to : {MODEL_SAVE_PATH}\")\n",
        "torch.save(obj=model_0.state_dict(),\n",
        "\t   f=MODEL_SAVE_PATH)"
      ]
    }
  ],
  "metadata": {
    "kernelspec": {
      "display_name": "default:Python",
      "language": "python",
      "name": "conda-env-default-py"
    },
    "language_info": {
      "codemirror_mode": {
        "name": "ipython",
        "version": 3
      },
      "file_extension": ".py",
      "mimetype": "text/x-python",
      "name": "python",
      "nbconvert_exporter": "python",
      "pygments_lexer": "ipython3",
      "version": "3.9.7"
    },
    "colab": {
      "name": "03_Pytorch_Workflow.ipynb",
      "provenance": [],
      "include_colab_link": true
    }
  },
  "nbformat": 4,
  "nbformat_minor": 5
}